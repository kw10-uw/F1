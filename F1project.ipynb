{
 "cells": [
  {
   "cell_type": "code",
   "execution_count": 1,
   "metadata": {},
   "outputs": [
    {
     "name": "stdout",
     "output_type": "stream",
     "text": [
      "[{\"location\":\"Spa-Francorchamps\",\"country_key\":16,\"country_code\":\"BEL\",\"country_name\":\"Belgium\",\"circuit_key\":7,\"circuit_short_name\":\"Spa-Francorchamps\",\"session_type\":\"Race\",\"session_name\":\"Sprint\",\"date_start\":\"2023-07-29T15:05:00+00:00\",\"date_end\":\"2023-07-29T15:35:00+00:00\",\"gmt_offset\":\"02:00:00\",\"session_key\":9140,\"meeting_key\":1216,\"year\":2023}]\n"
     ]
    }
   ],
   "source": [
    "# Import requests package\n",
    "import requests \n",
    "\n",
    "# Assign URL to variable: url\n",
    "url = 'https://api.openf1.org/v1/sessions?country_name=Belgium&session_name=Sprint&year=2023'\n",
    "\n",
    "# Package the request, send the request and catch the response: r\n",
    "r = requests.get(url)\n",
    "\n",
    "# Print the text of the response\n",
    "print(r.text)"
   ]
  }
 ],
 "metadata": {
  "kernelspec": {
   "display_name": "Python 3",
   "language": "python",
   "name": "python3"
  },
  "language_info": {
   "codemirror_mode": {
    "name": "ipython",
    "version": 3
   },
   "file_extension": ".py",
   "mimetype": "text/x-python",
   "name": "python",
   "nbconvert_exporter": "python",
   "pygments_lexer": "ipython3",
   "version": "3.9.13"
  }
 },
 "nbformat": 4,
 "nbformat_minor": 2
}
